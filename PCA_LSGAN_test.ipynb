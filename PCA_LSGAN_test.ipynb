{
 "cells": [
  {
   "cell_type": "code",
   "execution_count": null,
   "metadata": {},
   "outputs": [],
   "source": [
    "import torch\n",
    "import random\n",
    "import torchvision\n",
    "import torch.nn as nn\n",
    "import torch.optim as optim\n",
    "from torch.utils.data import DataLoader\n",
    "import torchvision.transforms as transforms\n",
    "import numpy as np\n",
    "import matplotlib.pyplot as plt\n",
    "from PIL import ImageFile, Image\n",
    "\n",
    "from LAG import LAG\n",
    "from CelebDataset import CelebDataset\n",
    "from MyModels import GeneratorModel, DiscriminatorModel\n",
    "import imageio as imageio\n"
   ]
  },
  {
   "cell_type": "code",
   "execution_count": null,
   "metadata": {},
   "outputs": [],
   "source": [
    "#GPU Check\n",
    "\n",
    "ngpu = 1\n",
    "device = torch.device(\"cuda:0\" if (torch.cuda.is_available() and ngpu > 0) else \"cpu\")\n",
    "print(device,\"is available!\")"
   ]
  },
  {
   "cell_type": "code",
   "execution_count": null,
   "metadata": {},
   "outputs": [],
   "source": [
    "# DATA set check and load\n",
    "\n",
    "transform = transforms.Compose([\n",
    "                transforms.Resize(64),\n",
    "                transforms.CenterCrop(64),\n",
    "                transforms.ToTensor(),\n",
    "                transforms.Normalize((0.5, 0.5, 0.5), (0.5, 0.5, 0.5))\n",
    "                                ])\n",
    "dataset = LAG('/home/vim/Desktop/mkSong/workspace/DCGAN_Tutorial/data/LAG_dataset/dataset', transform=transform)\n",
    "dataloader = DataLoader(dataset, shuffle=True, batch_size=64, num_workers=0)"
   ]
  },
  {
   "cell_type": "code",
   "execution_count": null,
   "metadata": {},
   "outputs": [],
   "source": [
    "# view function and check the sample imgs\n",
    "\n",
    "def view_samples(images):\n",
    "    img = torchvision.utils.make_grid(images, padding=2, normalize=True)\n",
    "    img = img.cpu().numpy()\n",
    "    plt.figure(figsize = (8, 8))\n",
    "    plt.imshow(np.transpose(img, (1,2,0)))\n",
    "    plt.show()\n",
    "    \n",
    "test = iter(dataloader)\n",
    "sample = next(test)\n",
    "print(sample.size())\n",
    "view_samples(sample)"
   ]
  },
  {
   "cell_type": "code",
   "execution_count": null,
   "metadata": {},
   "outputs": [],
   "source": [
    "# save the progress of learning result pics\n",
    "\n",
    "def save_progress(images, epoch, step):\n",
    "    img = torchvision.utils.make_grid(images, padding=2, normalize=True)\n",
    "    img = img.cpu().numpy()\n",
    "    img = np.transpose(img, (1,2,0))\n",
    "    img = np.uint8(img*255)\n",
    "    imageio.imwrite(f\"progress_pics/{epoch}-{step}.jpg\", img)"
   ]
  },
  {
   "cell_type": "code",
   "execution_count": null,
   "metadata": {},
   "outputs": [],
   "source": [
    "# save the model's state\n",
    "\n",
    "def save_model_state(model, optimizer, loss, epoch, name):\n",
    "    model_path = f\"saved_models/{name}{epoch}.pt\"\n",
    "    state_dict = {\n",
    "        'epoch' : epoch,\n",
    "        'model_state_dict' : model.state_dict(),\n",
    "        'opt_state_dict' : optimizer.state_dict(),\n",
    "        'training_loss' : loss,\n",
    "    }\n",
    "    torch.save(state_dict, model_path)"
   ]
  },
  {
   "cell_type": "code",
   "execution_count": null,
   "metadata": {},
   "outputs": [],
   "source": [
    "# load the saved model\n",
    "\n",
    "def load_model_state(model, filename):\n",
    "    model_info = torch.load(f\"saved_models/{filename}.pt\")\n",
    "    optimizer = torch.optim.Adam(model.parameters())\n",
    "    optimizer.load_state_dict(model_info[\"opt_state_dict\"])\n",
    "    model.load_state_dict(model_info[\"model_state_dict\"])\n",
    "    return model, optimizer"
   ]
  },
  {
   "cell_type": "code",
   "execution_count": null,
   "metadata": {},
   "outputs": [],
   "source": [
    "# making loss graph function\n",
    "\n",
    "def plot_losses(gen, dis):\n",
    "    fig = plt.figure(figsize=(10, 5))\n",
    "    ax = plt.subplot(111)\n",
    "    ax.plot(gen, label=\"Generator\")\n",
    "    ax.plot(dis, label=\"Discriminator\")\n",
    "    plt.title(\"Gen/Dis losses\")\n",
    "    ax.legend()\n",
    "    plt.show()"
   ]
  },
  {
   "cell_type": "code",
   "execution_count": null,
   "metadata": {},
   "outputs": [],
   "source": [
    "# initialize step\n",
    "\n"
   ]
  }
 ],
 "metadata": {
  "kernelspec": {
   "display_name": "Python 3.8.13 ('GAN')",
   "language": "python",
   "name": "python3"
  },
  "language_info": {
   "name": "python",
   "version": "3.8.13"
  },
  "orig_nbformat": 4,
  "vscode": {
   "interpreter": {
    "hash": "27188a68af24359f716f42331a05ac5c5dd63b6f781f49d2f8f4a4081f86e482"
   }
  }
 },
 "nbformat": 4,
 "nbformat_minor": 2
}
