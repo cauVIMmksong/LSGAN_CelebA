{
 "cells": [
  {
   "cell_type": "code",
   "execution_count": 1,
   "metadata": {},
   "outputs": [],
   "source": [
    "import os\n",
    "import numpy as np\n",
    "import glob\n",
    "from matplotlib import pyplot as plt\n",
    "from PIL import Image as im"
   ]
  },
  {
   "cell_type": "code",
   "execution_count": 10,
   "metadata": {},
   "outputs": [],
   "source": [
    "#dataset_path = 'C:\\\\Users\\\\User\\\\Downloads\\\\Face-Recognition-using-eigen-faces-master\\\\Face-Recognition-using-eigen-faces-master\\\\img_align_celeba\\\\img_align_celeba'\n",
    "dataset_path = 'D:\\workspace\\DCGAN\\LSGAN_CelebA\\LSGAN_CelebA\\FFHQ'\n",
    "file_names = os.listdir(dataset_path)\n",
    "file_names\n",
    "i = 1\n",
    "for name in file_names:\n",
    "    src = os.path.join(dataset_path, name)\n",
    "    dst = 'image'+str(i) + '.jpg'\n",
    "    dst = os.path.join(dataset_path, dst)\n",
    "    os.rename(src,dst)\n",
    "    i+=1"
   ]
  }
 ],
 "metadata": {
  "kernelspec": {
   "display_name": "Python 3.9.13 64-bit (windows store)",
   "language": "python",
   "name": "python3"
  },
  "language_info": {
   "codemirror_mode": {
    "name": "ipython",
    "version": 3
   },
   "file_extension": ".py",
   "mimetype": "text/x-python",
   "name": "python",
   "nbconvert_exporter": "python",
   "pygments_lexer": "ipython3",
   "version": "3.9.13"
  },
  "orig_nbformat": 4,
  "vscode": {
   "interpreter": {
    "hash": "298504a69d135773744c4cfabc648660b73470ade43ee178e3ab2dd36adaefd8"
   }
  }
 },
 "nbformat": 4,
 "nbformat_minor": 2
}
